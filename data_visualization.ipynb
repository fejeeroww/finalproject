{
 "cells": [
  {
   "cell_type": "markdown",
   "id": "a8eb7e32-96cc-4ec0-ba73-3fdcc211f6bc",
   "metadata": {},
   "source": [
    "# Final Project "
   ]
  },
  {
   "cell_type": "markdown",
   "id": "04bcefc2-dd70-45ea-8af5-d73cb06b97c2",
   "metadata": {},
   "source": [
    "## Data Visualization"
   ]
  },
  {
   "cell_type": "code",
   "execution_count": 5,
   "id": "b413042e-1b0c-4c52-956a-5b95d7777c19",
   "metadata": {},
   "outputs": [],
   "source": [
    "import pandas as pd\n",
    "import matplotlib.pyplot as plt\n",
    "import seaborn as sns"
   ]
  },
  {
   "cell_type": "code",
   "execution_count": 9,
   "id": "004bc4de-1a60-4de6-b9c4-f89c45f8427a",
   "metadata": {},
   "outputs": [],
   "source": [
    "# Load the CSV file\n",
    "df = pd.read_csv('survey_record.csv')"
   ]
  },
  {
   "cell_type": "code",
   "execution_count": 11,
   "id": "2af13c9f-b9af-4255-a92b-b4d9b126b602",
   "metadata": {},
   "outputs": [],
   "source": [
    "# Show the ages with the highest income\n",
    "plt.figure(figsize=(12, 6))\n",
    "sns.scatterplot(data=df, x='Age', y='Total Income')\n",
    "plt.title('Age vs Total Income')\n",
    "plt.savefig('age_vs_income.png')\n",
    "plt.close()"
   ]
  },
  {
   "cell_type": "code",
   "execution_count": 13,
   "id": "b656c9dd-491d-41d3-a589-0b2d1c22df7d",
   "metadata": {},
   "outputs": [],
   "source": [
    "# Show the gender distribution across spending categories\n",
    "spending_categories = ['Utilities', 'Entertainment', 'School Fees', 'Shopping', 'Healthcare']\n",
    "gender_spending = df.groupby('Gender')[spending_categories].mean()"
   ]
  },
  {
   "cell_type": "code",
   "execution_count": 15,
   "id": "7cc6ac4d-09fb-4d36-9c78-a787233c2a42",
   "metadata": {},
   "outputs": [
    {
     "name": "stdout",
     "output_type": "stream",
     "text": [
      "Age, Gender, Total Income, Utilities, Entertainment, School Fees, Shopping, Healthcare\n",
      "25, Male, 50000, 500, 200, 0, 300, 100\n",
      "30, Female, 65000, 600, 300, 1000, 400, 200\n",
      "45, Other, 80000, 700, 400, 2000, 500, 300\n"
     ]
    }
   ],
   "source": [
    "import csv\n",
    "\n",
    "# Read and display the contents of survey_record.csv\n",
    "with open('survey_record.csv', 'r') as file:\n",
    "    csv_reader = csv.reader(file)\n",
    "    for row in csv_reader:\n",
    "        print(', '.join(row))"
   ]
  },
  {
   "cell_type": "code",
   "execution_count": 17,
   "id": "162e2096-4e30-4b0b-944b-8830c3c44b79",
   "metadata": {},
   "outputs": [
    {
     "name": "stdout",
     "output_type": "stream",
     "text": [
      "Charts have been exported as 'age_vs_income.png' and 'gender_spending_distribution.png'\n"
     ]
    },
    {
     "data": {
      "text/plain": [
       "<Figure size 1200x600 with 0 Axes>"
      ]
     },
     "metadata": {},
     "output_type": "display_data"
    }
   ],
   "source": [
    "plt.figure(figsize=(12, 6))\n",
    "gender_spending.plot(kind='bar', stacked=True)\n",
    "plt.title('Gender Distribution Across Spending Categories')\n",
    "plt.xlabel('Gender')\n",
    "plt.ylabel('Average Spending')\n",
    "plt.legend(title='Spending Category', bbox_to_anchor=(1.05, 1), loc='upper left')\n",
    "plt.tight_layout()\n",
    "plt.savefig('gender_spending_distribution.png')\n",
    "plt.close()\n",
    "\n",
    "print(\"Charts have been exported as 'age_vs_income.png' and 'gender_spending_distribution.png'\")"
   ]
  },
  {
   "cell_type": "code",
   "execution_count": null,
   "id": "b0a735c2-f789-4b11-b7c2-0b5eaf9a524e",
   "metadata": {},
   "outputs": [],
   "source": []
  }
 ],
 "metadata": {
  "kernelspec": {
   "display_name": "Python 3 (ipykernel)",
   "language": "python",
   "name": "python3"
  },
  "language_info": {
   "codemirror_mode": {
    "name": "ipython",
    "version": 3
   },
   "file_extension": ".py",
   "mimetype": "text/x-python",
   "name": "python",
   "nbconvert_exporter": "python",
   "pygments_lexer": "ipython3",
   "version": "3.12.4"
  }
 },
 "nbformat": 4,
 "nbformat_minor": 5
}
